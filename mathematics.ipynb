{
  "nbformat": 4,
  "nbformat_minor": 0,
  "metadata": {
    "colab": {
      "provenance": [],
      "authorship_tag": "ABX9TyO3PTGMHOpj7FuOGX/Zw9p3",
      "include_colab_link": true
    },
    "kernelspec": {
      "name": "python3",
      "display_name": "Python 3"
    },
    "language_info": {
      "name": "python"
    }
  },
  "cells": [
    {
      "cell_type": "markdown",
      "metadata": {
        "id": "view-in-github",
        "colab_type": "text"
      },
      "source": [
        "<a href=\"https://colab.research.google.com/github/SukhmanpreetKaurManes/Linear-Algebra/blob/main/mathematics.ipynb\" target=\"_parent\"><img src=\"https://colab.research.google.com/assets/colab-badge.svg\" alt=\"Open In Colab\"/></a>"
      ]
    },
    {
      "cell_type": "markdown",
      "source": [
        "**Linear Algebra**"
      ],
      "metadata": {
        "id": "HAgAq4Wwyf9Z"
      }
    },
    {
      "cell_type": "code",
      "execution_count": null,
      "metadata": {
        "id": "nuW5odkNyYu0"
      },
      "outputs": [],
      "source": [
        "import numpy as np"
      ]
    },
    {
      "cell_type": "code",
      "source": [
        "v=np.array([1,2,3,4,5,5,6])\n",
        "v1=np.array([5,6,4,6,7,8,9])\n",
        "v2=np.array([2,6,7])\n",
        "print(type(v2))\n",
        "print(v+v1)\n",
        "#vector operations can be performed on vectors of similar length\n",
        "#print(v+v2)\n",
        "print(v-v1)\n",
        "print(v*v1)\n",
        "print(v/v1)\n",
        "print(v%v1)\n",
        "print(v**v1)"
      ],
      "metadata": {
        "colab": {
          "base_uri": "https://localhost:8080/"
        },
        "id": "FqX2_lT10G6e",
        "outputId": "5c312344-a50f-4210-8e1d-ce58ea05c469"
      },
      "execution_count": null,
      "outputs": [
        {
          "output_type": "stream",
          "name": "stdout",
          "text": [
            "<class 'numpy.ndarray'>\n",
            "[ 6  8  7 10 12 13 15]\n",
            "[-4 -4 -1 -2 -2 -3 -3]\n",
            "[ 5 12 12 24 35 40 54]\n",
            "[0.2        0.33333333 0.75       0.66666667 0.71428571 0.625\n",
            " 0.66666667]\n",
            "[1 2 3 4 5 5 6]\n",
            "[       1       64       81     4096    78125   390625 10077696]\n"
          ]
        }
      ]
    },
    {
      "cell_type": "code",
      "source": [
        "print(5*v)"
      ],
      "metadata": {
        "colab": {
          "base_uri": "https://localhost:8080/"
        },
        "id": "iAK-zm1r2D-T",
        "outputId": "21ece63b-570a-4522-b082-30ec45154969"
      },
      "execution_count": null,
      "outputs": [
        {
          "output_type": "stream",
          "name": "stdout",
          "text": [
            "[ 5 10 15 20 25 25 30]\n"
          ]
        }
      ]
    },
    {
      "cell_type": "code",
      "source": [
        "print(np.dot(v,v1))\n",
        "#print(np.dot(v,v2))"
      ],
      "metadata": {
        "colab": {
          "base_uri": "https://localhost:8080/"
        },
        "id": "jNUntbkF2OpB",
        "outputId": "654258d6-c0c0-4e5c-c424-3081d0f98a92"
      },
      "execution_count": null,
      "outputs": [
        {
          "output_type": "stream",
          "name": "stdout",
          "text": [
            "182\n"
          ]
        }
      ]
    },
    {
      "cell_type": "code",
      "source": [
        "#print(np.cross(v,v1))\n",
        "#print(np.cross(v,v2))\n",
        "#incompatible dimensions\n",
        "v3=np.array([1,2,3])\n",
        "v4=np.array([4,5])\n",
        "v5=np.array([1,2])\n",
        "#print(\"first ans-->\",np.cross(v3,v4))\n",
        "print(\"Second ans-->\",np.cross(v2,v3))\n",
        "#print(\"Third ans-->\",np.cross(v4,v5))\n",
        "# cross product requires vectors with 3 numbers"
      ],
      "metadata": {
        "colab": {
          "base_uri": "https://localhost:8080/"
        },
        "id": "4NaFUC1V2tyg",
        "outputId": "a0d05113-e739-478d-cbd5-1caaba5a08fc"
      },
      "execution_count": null,
      "outputs": [
        {
          "output_type": "stream",
          "name": "stdout",
          "text": [
            "Second ans--> [ 4  1 -2]\n"
          ]
        }
      ]
    },
    {
      "cell_type": "markdown",
      "source": [
        "The dot product of two vectors results in a scalar (a single number).\n",
        "\n",
        "It measures how much two vectors align in the same direction.\n",
        "\n",
        "Formula:\n",
        "\n",
        "A.B=AB cos theta\n",
        "\n",
        "\n",
        "\n",
        "The cross product of two vectors results in a vector that is perpendicular to both.\n",
        "\n",
        "It measures the area of the parallelogram formed by the two vectors.\n",
        "A*B=AB sin theta"
      ],
      "metadata": {
        "id": "5bF7I2acQ645"
      }
    },
    {
      "cell_type": "code",
      "source": [
        "determinant=np.linalg.det(np.array([[1,2],[3,4]]))\n",
        "print(determinant)"
      ],
      "metadata": {
        "colab": {
          "base_uri": "https://localhost:8080/"
        },
        "id": "IXHhIfDe4MnM",
        "outputId": "419f07d8-c3c7-417e-f3f4-a47b6693a672"
      },
      "execution_count": null,
      "outputs": [
        {
          "output_type": "stream",
          "name": "stdout",
          "text": [
            "-2.0000000000000004\n"
          ]
        }
      ]
    },
    {
      "cell_type": "code",
      "source": [
        "magnitude=np.linalg.norm(v)\n",
        "print(magnitude)"
      ],
      "metadata": {
        "colab": {
          "base_uri": "https://localhost:8080/"
        },
        "id": "glU81Ud042Ym",
        "outputId": "41fed2b3-4c6a-4816-f212-977665b69258"
      },
      "execution_count": null,
      "outputs": [
        {
          "output_type": "stream",
          "name": "stdout",
          "text": [
            "10.770329614269007\n"
          ]
        }
      ]
    },
    {
      "cell_type": "code",
      "source": [
        "normalized_vector=v/np.linalg.norm(v)\n",
        "print(normalized_vector)"
      ],
      "metadata": {
        "colab": {
          "base_uri": "https://localhost:8080/"
        },
        "id": "k8gZGkum5RF2",
        "outputId": "9ea7cad2-0db2-4ab5-e61c-9a18c8a78621"
      },
      "execution_count": null,
      "outputs": [
        {
          "output_type": "stream",
          "name": "stdout",
          "text": [
            "[0.09284767 0.18569534 0.27854301 0.37139068 0.46423835 0.46423835\n",
            " 0.55708601]\n"
          ]
        }
      ]
    },
    {
      "cell_type": "markdown",
      "source": [
        "A normalized vector is a vector that has been scaled to have a magnitude (length) of 1, while maintaining its original direction. This process is called vector normalization"
      ],
      "metadata": {
        "id": "MY_9cMtRR2Np"
      }
    },
    {
      "cell_type": "code",
      "source": [
        "squared_vector=v**2\n",
        "print(squared_vector)"
      ],
      "metadata": {
        "colab": {
          "base_uri": "https://localhost:8080/"
        },
        "id": "PUvWCk2I7zcQ",
        "outputId": "df6c82cd-4e97-45e3-be51-c76c0b0a7a61"
      },
      "execution_count": null,
      "outputs": [
        {
          "output_type": "stream",
          "name": "stdout",
          "text": [
            "[ 1  4  9 16 25 25 36]\n"
          ]
        }
      ]
    },
    {
      "cell_type": "code",
      "source": [
        "#orthogonal  vectors are those having determinant 0"
      ],
      "metadata": {
        "id": "nQgaPWtd86Ha"
      },
      "execution_count": null,
      "outputs": []
    },
    {
      "cell_type": "code",
      "source": [
        "import numpy as np\n",
        "A=np.array([[1,2,3],[4,5,6],[7,8,9]])\n",
        "B=np.array([[9,8,7],[6,5,4],[3,2,1]])\n",
        "print(type(A))\n",
        "print(A+B)\n",
        "print(A-B)\n",
        "print(A*B)\n",
        "print(A/B)"
      ],
      "metadata": {
        "colab": {
          "base_uri": "https://localhost:8080/"
        },
        "id": "r9BWtkLISb4e",
        "outputId": "c330e2a0-0179-49ef-937b-b39908a0856b"
      },
      "execution_count": null,
      "outputs": [
        {
          "output_type": "stream",
          "name": "stdout",
          "text": [
            "<class 'numpy.ndarray'>\n",
            "[[10 10 10]\n",
            " [10 10 10]\n",
            " [10 10 10]]\n",
            "[[-8 -6 -4]\n",
            " [-2  0  2]\n",
            " [ 4  6  8]]\n",
            "[[ 9 16 21]\n",
            " [24 25 24]\n",
            " [21 16  9]]\n",
            "[[0.11111111 0.25       0.42857143]\n",
            " [0.66666667 1.         1.5       ]\n",
            " [2.33333333 4.         9.        ]]\n"
          ]
        }
      ]
    },
    {
      "cell_type": "code",
      "source": [
        "c_mul=np.dot(A,B)\n",
        "print(c_mul)"
      ],
      "metadata": {
        "colab": {
          "base_uri": "https://localhost:8080/"
        },
        "id": "68Dg6gmxMWA6",
        "outputId": "891a10de-11c5-4f32-ae37-cda5a122a9b8"
      },
      "execution_count": null,
      "outputs": [
        {
          "output_type": "stream",
          "name": "stdout",
          "text": [
            "[[ 30  24  18]\n",
            " [ 84  69  54]\n",
            " [138 114  90]]\n"
          ]
        }
      ]
    },
    {
      "cell_type": "code",
      "source": [
        "C=np.array([[1,2],[3,4]])\n",
        "inv_C=np.linalg.inv(C)\n",
        "print(inv_C)"
      ],
      "metadata": {
        "colab": {
          "base_uri": "https://localhost:8080/"
        },
        "id": "bvxA3iq8MmJq",
        "outputId": "b24df25b-3f3e-43fc-ee3f-ec3dd1d7bad5"
      },
      "execution_count": null,
      "outputs": [
        {
          "output_type": "stream",
          "name": "stdout",
          "text": [
            "[[-2.   1. ]\n",
            " [ 1.5 -0.5]]\n"
          ]
        }
      ]
    },
    {
      "cell_type": "markdown",
      "source": [
        "The inverse of a matrix is a matrix that, when multiplied by the original matrix, results in the identity matrix.Not all matrices have an inverse. A matrix must:\n",
        "\n",
        "Be square (same number of rows and columns).\n",
        "\n",
        "Be non-singular, meaning its determinant is not zero"
      ],
      "metadata": {
        "id": "4cW4BEENPF1g"
      }
    },
    {
      "cell_type": "code",
      "source": [
        "eigenvalues, eigenvectors = np.linalg.eig(A)\n",
        "print(eigenvalues)\n",
        "print(eigenvectors)"
      ],
      "metadata": {
        "colab": {
          "base_uri": "https://localhost:8080/"
        },
        "id": "qUVHy3nFNT3y",
        "outputId": "4924b630-f53a-4480-ef8f-30f6fa46daa0"
      },
      "execution_count": null,
      "outputs": [
        {
          "output_type": "stream",
          "name": "stdout",
          "text": [
            "[ 1.61168440e+01 -1.11684397e+00 -1.30367773e-15]\n",
            "[[-0.23197069 -0.78583024  0.40824829]\n",
            " [-0.52532209 -0.08675134 -0.81649658]\n",
            " [-0.8186735   0.61232756  0.40824829]]\n"
          ]
        }
      ]
    },
    {
      "cell_type": "markdown",
      "source": [
        "An eigenvalue is a scalar that represents how much an eigenvector is stretched or shrunk during a linear transformation. If a matrix\n",
        "𝐴 acts on a vector 𝑣\n",
        ", and the result is a scaled version of 𝑣\n",
        ", then the scaling factor is the eigenvalue 𝜆\n",
        ".\n",
        "\n",
        "Mathematically, this is expressed as:\n",
        "\n",
        "𝐴𝑣=𝜆𝑣\n",
        "𝐴\n",
        " is a square matrix,\n",
        "\n",
        "𝑣\n",
        " is an eigenvector,\n",
        "\n",
        "𝜆\n",
        " is the eigenvalue.\n",
        "\n",
        "An eigenvector is a nonzero vector that remains in the same direction after a linear transformation, though its magnitude may change. It is associated with an eigenvalue and satisfies the equation above."
      ],
      "metadata": {
        "id": "B20CoU-wOg6U"
      }
    },
    {
      "cell_type": "code",
      "source": [
        "A_transpose=np.transpose(A)\n",
        "print(\"Transpose:\\n\",A_transpose)"
      ],
      "metadata": {
        "colab": {
          "base_uri": "https://localhost:8080/"
        },
        "id": "wtZk3Q0xPOnt",
        "outputId": "babc8cc4-5fec-42ad-83bc-34f23ea91ff8"
      },
      "execution_count": null,
      "outputs": [
        {
          "output_type": "stream",
          "name": "stdout",
          "text": [
            "Transpose:\n",
            " [[1 4 7]\n",
            " [2 5 8]\n",
            " [3 6 9]]\n"
          ]
        }
      ]
    },
    {
      "cell_type": "code",
      "source": [
        "#Angle between vectors\n",
        "import numpy as np\n",
        "a=np.array([1,2])\n",
        "b=np.array([2,3])\n",
        "dot_product=np.dot(a,b)\n",
        "norm_a=np.linalg.norm(a)\n",
        "norm_b=np.linalg.norm(b)\n",
        "cos_theta=dot_product/(norm_a*norm_b)\n",
        "theta_rad=np.arccos(cos_theta)\n",
        "angle_deg=np.degrees(theta_rad)                        #1 radian = 180° / π ≈ 57.2958°\n",
        "print(\"Dot product:\",dot_product)\n",
        "print(\"Norm of a:\",norm_a)\n",
        "print(\"Norm of b:\",norm_b)\n",
        "print(\"Cosine of theta:\",cos_theta)\n",
        "print(\"Angle in radians:\",theta_rad)\n",
        "print(\"Angle in degrees:\",angle_deg)\n"
      ],
      "metadata": {
        "colab": {
          "base_uri": "https://localhost:8080/"
        },
        "id": "1tMFqDLz7WGW",
        "outputId": "93c5da15-c8bc-47f2-b8da-6b728c4e04e1"
      },
      "execution_count": null,
      "outputs": [
        {
          "output_type": "stream",
          "name": "stdout",
          "text": [
            "Dot product: 8\n",
            "Norm of a: 2.23606797749979\n",
            "Norm of b: 3.605551275463989\n",
            "Cosine of theta: 0.9922778767136677\n",
            "Angle in radians: 0.12435499454676072\n",
            "Angle in degrees: 7.125016348901757\n"
          ]
        }
      ]
    },
    {
      "cell_type": "code",
      "source": [
        "import numpy as np\n",
        "\n",
        "A = np.array([[1, 2, 3], [4, 5, 6]])\n",
        "B = np.array([[1, 0], [0, 1], [1, 1]])\n",
        "result = A @ B\n",
        "print(\"Matrix Multiplication Result:\\n\", result)"
      ],
      "metadata": {
        "colab": {
          "base_uri": "https://localhost:8080/"
        },
        "id": "0u_MX3JgdAT7",
        "outputId": "57e0a1ee-307b-4c03-e0f1-d12e20336ccd"
      },
      "execution_count": null,
      "outputs": [
        {
          "output_type": "stream",
          "name": "stdout",
          "text": [
            "Matrix Multiplication Result:\n",
            " [[ 4  5]\n",
            " [10 11]]\n"
          ]
        }
      ]
    },
    {
      "cell_type": "code",
      "source": [
        "print(np.allclose(A.T.T, A))"
      ],
      "metadata": {
        "colab": {
          "base_uri": "https://localhost:8080/"
        },
        "id": "aiff3-bwf8SI",
        "outputId": "d0e67d9d-2781-4113-d0c5-b57dbde1b376"
      },
      "execution_count": null,
      "outputs": [
        {
          "output_type": "stream",
          "name": "stdout",
          "text": [
            "True\n"
          ]
        }
      ]
    },
    {
      "cell_type": "markdown",
      "source": [
        "A.T is the transpose of matrix A.\n",
        "\n",
        "A.T.T is the transpose of the transpose, which brings you back to the original matrix A.\n",
        "\n",
        "np.allclose() checks if two arrays are element-wise equal within a tolerance"
      ],
      "metadata": {
        "id": "3KFiE2jLg6mF"
      }
    },
    {
      "cell_type": "code",
      "source": [
        "C = np.array([[5, 6], [7, 8], [9, 10]])\n",
        "print(\"Original shape:\", C.shape, \"Transposed shape:\", C.T.shape)"
      ],
      "metadata": {
        "colab": {
          "base_uri": "https://localhost:8080/"
        },
        "id": "ut0vyNAlgqcf",
        "outputId": "8bf1cefe-95e9-4250-ef60-ad3fb2a9e519"
      },
      "execution_count": null,
      "outputs": [
        {
          "output_type": "stream",
          "name": "stdout",
          "text": [
            "Original shape: (3, 2) Transposed shape: (2, 3)\n"
          ]
        }
      ]
    },
    {
      "cell_type": "code",
      "source": [
        "A = np.array([[2, 3], [1, 4]])\n",
        "det_A = np.linalg.det(A)\n",
        "print(\"Determinant of A:\", det_A)"
      ],
      "metadata": {
        "colab": {
          "base_uri": "https://localhost:8080/"
        },
        "id": "2Y7mGE8ehx9b",
        "outputId": "acdaaf46-cdb9-462a-f14e-0e0d9c41393d"
      },
      "execution_count": null,
      "outputs": [
        {
          "output_type": "stream",
          "name": "stdout",
          "text": [
            "Determinant of A: 5.000000000000001\n"
          ]
        }
      ]
    },
    {
      "cell_type": "code",
      "source": [
        "if det_A != 0:\n",
        "    A_inv = np.linalg.inv(A)\n",
        "    print(\"Inverse of A:\\n\", A_inv)"
      ],
      "metadata": {
        "colab": {
          "base_uri": "https://localhost:8080/"
        },
        "id": "yRWq8RRIh1UW",
        "outputId": "4c31ef89-0ac2-484d-ba3d-a6c3c2c016cf"
      },
      "execution_count": null,
      "outputs": [
        {
          "output_type": "stream",
          "name": "stdout",
          "text": [
            "Inverse of A:\n",
            " [[ 0.8 -0.6]\n",
            " [-0.2  0.4]]\n"
          ]
        }
      ]
    },
    {
      "cell_type": "code",
      "source": [
        "B = np.array([[1, 2, 3], [2, 4, 6], [3, 6, 9]])\n",
        "print(\"Rank of B:\", np.linalg.matrix_rank(B))"
      ],
      "metadata": {
        "colab": {
          "base_uri": "https://localhost:8080/"
        },
        "id": "euSS2Uiah50P",
        "outputId": "b67b3de9-127d-4684-dfc6-71f013726b0b"
      },
      "execution_count": null,
      "outputs": [
        {
          "output_type": "stream",
          "name": "stdout",
          "text": [
            "Rank of B: 1\n"
          ]
        }
      ]
    },
    {
      "cell_type": "code",
      "source": [
        "print(\"Check Identity:\\n\", np.round(A @ A_inv))"
      ],
      "metadata": {
        "colab": {
          "base_uri": "https://localhost:8080/"
        },
        "id": "QFvN7ygbiMNx",
        "outputId": "0b313000-5188-4d6d-c7b5-149a68c5bc47"
      },
      "execution_count": null,
      "outputs": [
        {
          "output_type": "stream",
          "name": "stdout",
          "text": [
            "Check Identity:\n",
            " [[ 1. -0.]\n",
            " [ 0.  1.]]\n"
          ]
        }
      ]
    },
    {
      "cell_type": "code",
      "source": [
        "A = np.array([[2, 3], [1, 2]])\n",
        "b = np.array([8, 5])"
      ],
      "metadata": {
        "id": "y_K-x9jJpkJc"
      },
      "execution_count": null,
      "outputs": []
    },
    {
      "cell_type": "code",
      "source": [
        "# 1. Solve the system\n",
        "x = np.linalg.solve(A, b)\n",
        "print(\"Solution x:\", x)\n",
        "#np.linalg.solve() is used to solve systems of linear equations"
      ],
      "metadata": {
        "colab": {
          "base_uri": "https://localhost:8080/"
        },
        "id": "3Pk8eoEtqytV",
        "outputId": "c9585292-7a80-4604-aae2-923f51c2245f"
      },
      "execution_count": null,
      "outputs": [
        {
          "output_type": "stream",
          "name": "stdout",
          "text": [
            "Solution x: [1. 2.]\n"
          ]
        }
      ]
    },
    {
      "cell_type": "code",
      "source": [
        "# 2. Modify A and b to test for no solution (inconsistent system)\n",
        "A_inconsistent = np.array([[1, -1], [2, -2]])\n",
        "b_inconsistent = np.array([2, 5])\n",
        "try:\n",
        "    x = np.linalg.solve(A_inconsistent, b_inconsistent)\n",
        "except np.linalg.LinAlgError as e:\n",
        "    print(\"No solution:\", e)"
      ],
      "metadata": {
        "colab": {
          "base_uri": "https://localhost:8080/"
        },
        "id": "gq2TvfPIq0hH",
        "outputId": "3184d11b-b6d5-4720-a1b3-f62f9248aa81"
      },
      "execution_count": null,
      "outputs": [
        {
          "output_type": "stream",
          "name": "stdout",
          "text": [
            "No solution: Singular matrix\n"
          ]
        }
      ]
    },
    {
      "cell_type": "code",
      "source": [
        "augmented_matrix = np.column_stack((A_inconsistent, b_inconsistent))\n",
        "print(\"Rank of A:\", np.linalg.matrix_rank(A_inconsistent))\n",
        "print(\"Rank of augmented matrix:\", np.linalg.matrix_rank(augmented_matrix))"
      ],
      "metadata": {
        "colab": {
          "base_uri": "https://localhost:8080/"
        },
        "id": "Xrsz2Awuq9lj",
        "outputId": "002b0b94-2dfa-44bf-bb22-a548a6a3945e"
      },
      "execution_count": null,
      "outputs": [
        {
          "output_type": "stream",
          "name": "stdout",
          "text": [
            "Rank of A: 1\n",
            "Rank of augmented matrix: 2\n"
          ]
        }
      ]
    },
    {
      "cell_type": "code",
      "source": [
        "import numpy as np\n",
        "\n",
        "A = np.array([[2, 4, 6], [1, 3, 5], [3, 7, 9]])\n",
        "rank = np.linalg.matrix_rank(A)\n",
        "print(\"Rank of A:\", rank)\n"
      ],
      "metadata": {
        "id": "bOydRQA6r7nn",
        "colab": {
          "base_uri": "https://localhost:8080/"
        },
        "outputId": "587c961f-9f1c-449b-cce0-82c70aaa4b91"
      },
      "execution_count": null,
      "outputs": [
        {
          "output_type": "stream",
          "name": "stdout",
          "text": [
            "Rank of A: 3\n"
          ]
        }
      ]
    },
    {
      "cell_type": "code",
      "source": [
        "B = np.array([[1, 2, 3], [0, 1, 4], [5, 6, 0]])\n",
        "det_B = np.linalg.det(B)\n",
        "print(\"Determinant of B:\", round(det_B, 2))\n"
      ],
      "metadata": {
        "colab": {
          "base_uri": "https://localhost:8080/"
        },
        "id": "pw8VIUz0gxQA",
        "outputId": "5620a466-e9ce-4c1b-a1ac-747d25736b98"
      },
      "execution_count": null,
      "outputs": [
        {
          "output_type": "stream",
          "name": "stdout",
          "text": [
            "Determinant of B: 1.0\n"
          ]
        }
      ]
    },
    {
      "cell_type": "code",
      "source": [
        "C = np.array([[4, 7], [2, 6]])\n",
        "det_C = np.linalg.det(C)\n",
        "print(\"Determinant of C:\", det_C)\n",
        "if det_C != 0:\n",
        "    inv_C = np.linalg.inv(C)\n",
        "    print(\"Inverse of C:\\n\", inv_C)\n",
        "else:\n",
        "    print(\"Matrix is singular.\")\n"
      ],
      "metadata": {
        "colab": {
          "base_uri": "https://localhost:8080/"
        },
        "id": "cYDc3kxUg7J9",
        "outputId": "15e71ca3-4d83-44e8-e34b-351cfd811196"
      },
      "execution_count": null,
      "outputs": [
        {
          "output_type": "stream",
          "name": "stdout",
          "text": [
            "Determinant of C: 10.000000000000002\n",
            "Inverse of C:\n",
            " [[ 0.6 -0.7]\n",
            " [-0.2  0.4]]\n"
          ]
        }
      ]
    },
    {
      "cell_type": "code",
      "source": [
        "D = np.array([[3, 1], [2, 4]])\n",
        "inv_D = np.linalg.inv(D)\n",
        "print(\"Inverse of D:\\n\", inv_D)\n"
      ],
      "metadata": {
        "colab": {
          "base_uri": "https://localhost:8080/"
        },
        "id": "ycenLHV4ho5u",
        "outputId": "639c9317-b29a-4e0f-c585-ee4c3eb0ee21"
      },
      "execution_count": null,
      "outputs": [
        {
          "output_type": "stream",
          "name": "stdout",
          "text": [
            "Inverse of D:\n",
            " [[ 0.4 -0.1]\n",
            " [-0.2  0.3]]\n"
          ]
        }
      ]
    },
    {
      "cell_type": "code",
      "source": [
        "identity_check = D @ inv_D\n",
        "print(\"D * D⁻¹:\\n\", identity_check)\n"
      ],
      "metadata": {
        "colab": {
          "base_uri": "https://localhost:8080/"
        },
        "id": "AnJm2LOHhva0",
        "outputId": "5f364d38-ddd8-4337-ce6c-6f3ef3837c16"
      },
      "execution_count": null,
      "outputs": [
        {
          "output_type": "stream",
          "name": "stdout",
          "text": [
            "D * D⁻¹:\n",
            " [[1. 0.]\n",
            " [0. 1.]]\n"
          ]
        }
      ]
    },
    {
      "cell_type": "code",
      "source": [
        "E = np.array([[1, 2], [2, 4]])  # Determinant = 0 (rows are multiples)\n",
        "try:\n",
        "    inv_E = np.linalg.inv(E)\n",
        "    print(inv_E)\n",
        "except np.linalg.LinAlgError:\n",
        "    print(\"Matrix E is singular and not invertible.\")\n"
      ],
      "metadata": {
        "colab": {
          "base_uri": "https://localhost:8080/"
        },
        "id": "H7rO4gVph0tx",
        "outputId": "0bff2ffa-2817-4329-eb3a-c8bfa7f4e148"
      },
      "execution_count": null,
      "outputs": [
        {
          "output_type": "stream",
          "name": "stdout",
          "text": [
            "Matrix E is singular and not invertible.\n"
          ]
        }
      ]
    },
    {
      "cell_type": "code",
      "source": [
        "A = np.array([[2, 1], [1, 3]])\n",
        "x = np.array([4, 5])\n",
        "Tx = A @ x\n",
        "print(\"T(x):\", Tx)\n"
      ],
      "metadata": {
        "colab": {
          "base_uri": "https://localhost:8080/"
        },
        "id": "Z-hpmHo3iBmS",
        "outputId": "222daf59-910d-431b-da94-34e6ef359a0c"
      },
      "execution_count": null,
      "outputs": [
        {
          "output_type": "stream",
          "name": "stdout",
          "text": [
            "T(x): [13 19]\n"
          ]
        }
      ]
    },
    {
      "cell_type": "code",
      "source": [
        "E = np.array([[1, 2], [2, 4]])  # Determinant = 0 (rows are multiples)\n",
        "try:\n",
        "    inv_E = np.linalg.inv(E)\n",
        "    print(inv_E)\n",
        "except np.linalg.LinAlgError:\n",
        "    print(\"Matrix E is singular and not invertible.\")\n"
      ],
      "metadata": {
        "colab": {
          "base_uri": "https://localhost:8080/"
        },
        "id": "ypOX9HeaiGIo",
        "outputId": "14a3f29a-5af2-4ff1-ea55-f6b3f2128e98"
      },
      "execution_count": null,
      "outputs": [
        {
          "output_type": "stream",
          "name": "stdout",
          "text": [
            "Matrix E is singular and not invertible.\n"
          ]
        }
      ]
    },
    {
      "cell_type": "code",
      "source": [
        "A = np.array([[2, 1], [1, 3]])\n",
        "x = np.array([4, 5])\n",
        "Tx = A @ x\n",
        "print(\"T(x):\", Tx)\n"
      ],
      "metadata": {
        "colab": {
          "base_uri": "https://localhost:8080/"
        },
        "id": "FgcWbg5aimIj",
        "outputId": "44540e8c-8119-4ffd-d8c9-9fcc81c1906c"
      },
      "execution_count": null,
      "outputs": [
        {
          "output_type": "stream",
          "name": "stdout",
          "text": [
            "T(x): [13 19]\n"
          ]
        }
      ]
    },
    {
      "cell_type": "code",
      "source": [
        "I = np.identity(3)\n",
        "v = np.array([1, 2, 3])\n",
        "result = I @ v\n",
        "print(\"I * v =\", result)\n"
      ],
      "metadata": {
        "colab": {
          "base_uri": "https://localhost:8080/"
        },
        "id": "w-v0b3glisHc",
        "outputId": "4efe3ba4-7c64-4fbd-e7b1-3a353c91b348"
      },
      "execution_count": null,
      "outputs": [
        {
          "output_type": "stream",
          "name": "stdout",
          "text": [
            "I * v = [1. 2. 3.]\n"
          ]
        }
      ]
    },
    {
      "cell_type": "code",
      "source": [
        "Z = np.zeros((3, 3))\n",
        "x = np.array([5, 6, 7])\n",
        "print(\"Z * x =\", Z @ x)\n"
      ],
      "metadata": {
        "colab": {
          "base_uri": "https://localhost:8080/"
        },
        "id": "GODueIlMiyBz",
        "outputId": "904f1f2f-4b30-49fc-9c21-516440ce29cc"
      },
      "execution_count": null,
      "outputs": [
        {
          "output_type": "stream",
          "name": "stdout",
          "text": [
            "Z * x = [0. 0. 0.]\n"
          ]
        }
      ]
    },
    {
      "cell_type": "code",
      "source": [
        "M = np.array([[2, 0], [0, 3]])\n",
        "eigenvalues, eigenvectors = np.linalg.eig(M)\n",
        "print(\"Eigenvalues:\", eigenvalues)\n",
        "print(\"Eigenvectors:\\n\", eigenvectors)\n"
      ],
      "metadata": {
        "colab": {
          "base_uri": "https://localhost:8080/"
        },
        "id": "Dg3zWXLDi1Vt",
        "outputId": "a3213cbc-353c-4170-fd34-6b4270a13d89"
      },
      "execution_count": null,
      "outputs": [
        {
          "output_type": "stream",
          "name": "stdout",
          "text": [
            "Eigenvalues: [2. 3.]\n",
            "Eigenvectors:\n",
            " [[1. 0.]\n",
            " [0. 1.]]\n"
          ]
        }
      ]
    }
  ]
}